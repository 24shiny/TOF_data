{
 "cells": [
  {
   "cell_type": "code",
   "execution_count": 2,
   "id": "a023fa6c-387a-45f8-90a9-16b0436fdb61",
   "metadata": {},
   "outputs": [],
   "source": [
    "from tabulate import tabulate"
   ]
  },
  {
   "cell_type": "code",
   "execution_count": 17,
   "id": "ebe4f274-905a-4b0f-860b-9559c91f8fd3",
   "metadata": {},
   "outputs": [
    {
     "name": "stdout",
     "output_type": "stream",
     "text": [
      "+----+--------+--------+\n",
      "|    | ATOM   |   MASS |\n",
      "+====+========+========+\n",
      "|  0 | H      |   1    |\n",
      "+----+--------+--------+\n",
      "|  1 | N      |  14    |\n",
      "+----+--------+--------+\n",
      "|  2 | Si     |  28    |\n",
      "+----+--------+--------+\n",
      "|  3 | Cl     |  35.45 |\n",
      "+----+--------+--------+\n",
      "|  4 | Ar     |  40    |\n",
      "+----+--------+--------+\n"
     ]
    }
   ],
   "source": [
    "# assign data\n",
    "mydata = [\n",
    "\t[\"H\", \"1\"], \n",
    "\t[\"N\", \"14\"], \n",
    "\t[\"Si\", \"28\"], \n",
    "\t[\"Cl\", \"35.45\"],\n",
    "    [\"Ar\", \"40\"]\n",
    "]\n",
    "\n",
    "# create header\n",
    "head = [\"ATOM\", \"MASS\"]\n",
    "\n",
    "# display table\n",
    "print(tabulate(mydata, headers=head, tablefmt=\"grid\",showindex=\"always\")) # showindex=\"always\""
   ]
  },
  {
   "cell_type": "raw",
   "id": "8a41fcb5-ece8-44b8-b678-ac581feb7f85",
   "metadata": {},
   "source": [
    "# MERGE EXAMPLE\n",
    "import tabulate_cell_merger.tabulate_cell_merger as tcm\n",
    "table = [['a1', 'b1'], ['a2', 'b2']]\n",
    "colspan = {(0, 0): 2}\n",
    "rowspan = {(0, 1): 2}\n",
    "print(tcm.tabulate(table, colspan, rowspan))"
   ]
  },
  {
   "cell_type": "code",
   "execution_count": 14,
   "id": "63d44424-f448-484a-a1ae-19596a50882a",
   "metadata": {},
   "outputs": [
    {
     "data": {
      "text/html": [
       "<div>\n",
       "<style scoped>\n",
       "    .dataframe tbody tr th:only-of-type {\n",
       "        vertical-align: middle;\n",
       "    }\n",
       "\n",
       "    .dataframe tbody tr th {\n",
       "        vertical-align: top;\n",
       "    }\n",
       "\n",
       "    .dataframe thead th {\n",
       "        text-align: right;\n",
       "    }\n",
       "</style>\n",
       "<table border=\"1\" class=\"dataframe\">\n",
       "  <thead>\n",
       "    <tr style=\"text-align: right;\">\n",
       "      <th></th>\n",
       "      <th>MOLECULE</th>\n",
       "      <th>MASS</th>\n",
       "    </tr>\n",
       "  </thead>\n",
       "  <tbody>\n",
       "    <tr>\n",
       "      <th>0</th>\n",
       "      <td>NH</td>\n",
       "      <td>15.00</td>\n",
       "    </tr>\n",
       "    <tr>\n",
       "      <th>1</th>\n",
       "      <td>NH2</td>\n",
       "      <td>16.00</td>\n",
       "    </tr>\n",
       "    <tr>\n",
       "      <th>2</th>\n",
       "      <td>NH3</td>\n",
       "      <td>17.00</td>\n",
       "    </tr>\n",
       "    <tr>\n",
       "      <th>3</th>\n",
       "      <td>N2</td>\n",
       "      <td>28.00</td>\n",
       "    </tr>\n",
       "    <tr>\n",
       "      <th>4</th>\n",
       "      <td>N2H4</td>\n",
       "      <td>32.05</td>\n",
       "    </tr>\n",
       "    <tr>\n",
       "      <th>5</th>\n",
       "      <td>HCl</td>\n",
       "      <td>36.46</td>\n",
       "    </tr>\n",
       "    <tr>\n",
       "      <th>6</th>\n",
       "      <td>SiNH2</td>\n",
       "      <td>44.11</td>\n",
       "    </tr>\n",
       "    <tr>\n",
       "      <th>7</th>\n",
       "      <td>NCl</td>\n",
       "      <td>49.46</td>\n",
       "    </tr>\n",
       "    <tr>\n",
       "      <th>8</th>\n",
       "      <td>NHCl</td>\n",
       "      <td>50.47</td>\n",
       "    </tr>\n",
       "    <tr>\n",
       "      <th>9</th>\n",
       "      <td>NH2Cl</td>\n",
       "      <td>51.48</td>\n",
       "    </tr>\n",
       "    <tr>\n",
       "      <th>10</th>\n",
       "      <td>SiCl</td>\n",
       "      <td>63.54</td>\n",
       "    </tr>\n",
       "    <tr>\n",
       "      <th>11</th>\n",
       "      <td>Cl2</td>\n",
       "      <td>70.91</td>\n",
       "    </tr>\n",
       "    <tr>\n",
       "      <th>12</th>\n",
       "      <td>SiClNH2</td>\n",
       "      <td>79.56</td>\n",
       "    </tr>\n",
       "    <tr>\n",
       "      <th>13</th>\n",
       "      <td>SiCl2</td>\n",
       "      <td>98.99</td>\n",
       "    </tr>\n",
       "  </tbody>\n",
       "</table>\n",
       "</div>"
      ],
      "text/plain": [
       "   MOLECULE   MASS\n",
       "0        NH  15.00\n",
       "1       NH2  16.00\n",
       "2       NH3  17.00\n",
       "3        N2  28.00\n",
       "4      N2H4  32.05\n",
       "5       HCl  36.46\n",
       "6     SiNH2  44.11\n",
       "7       NCl  49.46\n",
       "8      NHCl  50.47\n",
       "9     NH2Cl  51.48\n",
       "10     SiCl  63.54\n",
       "11      Cl2  70.91\n",
       "12  SiClNH2  79.56\n",
       "13    SiCl2  98.99"
      ]
     },
     "execution_count": 14,
     "metadata": {},
     "output_type": "execute_result"
    }
   ],
   "source": [
    "mols = ['NH3','NH2','NH','N2','NCl','SiCl','SiNH2','Cl2','HCl','NH2Cl','SiCl2','SiClNH2','N2H4','NHCl']\n",
    "mass = [17,16,15,28,49.46,63.54,44.11,70.91,36.46,51.48,98.99,79.56,32.05,50.47]\n",
    "\n",
    "import pandas as pd\n",
    "df = pd.DataFrame({'MOLECULE':mols, 'MASS':mass})\n",
    "df = df.sort_values(by='MASS').reset_index(drop=True)\n",
    "df"
   ]
  },
  {
   "cell_type": "code",
   "execution_count": 15,
   "id": "ed46f12c-26cd-47bf-9beb-a5c887e993ee",
   "metadata": {},
   "outputs": [
    {
     "data": {
      "text/plain": [
       "[['NH', 15.0],\n",
       " ['NH2', 16.0],\n",
       " ['NH3', 17.0],\n",
       " ['N2', 28.0],\n",
       " ['N2H4', 32.05],\n",
       " ['HCl', 36.46],\n",
       " ['SiNH2', 44.11],\n",
       " ['NCl', 49.46],\n",
       " ['NHCl', 50.47],\n",
       " ['NH2Cl', 51.48],\n",
       " ['SiCl', 63.54],\n",
       " ['Cl2', 70.91],\n",
       " ['SiClNH2', 79.56],\n",
       " ['SiCl2', 98.99]]"
      ]
     },
     "execution_count": 15,
     "metadata": {},
     "output_type": "execute_result"
    }
   ],
   "source": [
    "df.values.tolist()"
   ]
  },
  {
   "cell_type": "code",
   "execution_count": 16,
   "id": "230d9074-b38c-4c3c-9465-66a9fc35990c",
   "metadata": {},
   "outputs": [
    {
     "name": "stdout",
     "output_type": "stream",
     "text": [
      "+----+------------+--------+\n",
      "|    | MOLECULE   |   MASS |\n",
      "+====+============+========+\n",
      "|  0 | NH         |  15    |\n",
      "+----+------------+--------+\n",
      "|  1 | NH2        |  16    |\n",
      "+----+------------+--------+\n",
      "|  2 | NH3        |  17    |\n",
      "+----+------------+--------+\n",
      "|  3 | N2         |  28    |\n",
      "+----+------------+--------+\n",
      "|  4 | N2H4       |  32.05 |\n",
      "+----+------------+--------+\n",
      "|  5 | HCl        |  36.46 |\n",
      "+----+------------+--------+\n",
      "|  6 | SiNH2      |  44.11 |\n",
      "+----+------------+--------+\n",
      "|  7 | NCl        |  49.46 |\n",
      "+----+------------+--------+\n",
      "|  8 | NHCl       |  50.47 |\n",
      "+----+------------+--------+\n",
      "|  9 | NH2Cl      |  51.48 |\n",
      "+----+------------+--------+\n",
      "| 10 | SiCl       |  63.54 |\n",
      "+----+------------+--------+\n",
      "| 11 | Cl2        |  70.91 |\n",
      "+----+------------+--------+\n",
      "| 12 | SiClNH2    |  79.56 |\n",
      "+----+------------+--------+\n",
      "| 13 | SiCl2      |  98.99 |\n",
      "+----+------------+--------+\n"
     ]
    }
   ],
   "source": [
    "head = [\"MOLECULE\", \"MASS\"]\n",
    "print(tabulate(df.values.tolist(), headers=head, tablefmt=\"grid\",showindex=\"always\")) # showindex=\"always\""
   ]
  },
  {
   "cell_type": "code",
   "execution_count": null,
   "id": "7c805949-f20c-4cab-ae99-5cdff9bfa62e",
   "metadata": {},
   "outputs": [],
   "source": []
  }
 ],
 "metadata": {
  "kernelspec": {
   "display_name": "Python 3 (ipykernel)",
   "language": "python",
   "name": "python3"
  },
  "language_info": {
   "codemirror_mode": {
    "name": "ipython",
    "version": 3
   },
   "file_extension": ".py",
   "mimetype": "text/x-python",
   "name": "python",
   "nbconvert_exporter": "python",
   "pygments_lexer": "ipython3",
   "version": "3.12.7"
  }
 },
 "nbformat": 4,
 "nbformat_minor": 5
}
