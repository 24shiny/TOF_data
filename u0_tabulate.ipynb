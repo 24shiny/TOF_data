{
 "cells": [
  {
   "cell_type": "code",
   "execution_count": 2,
   "id": "ebe4f274-905a-4b0f-860b-9559c91f8fd3",
   "metadata": {},
   "outputs": [
    {
     "name": "stdout",
     "output_type": "stream",
     "text": [
      "+----+--------+-----------+\n",
      "|    | Name   | City      |\n",
      "+====+========+===========+\n",
      "|  0 | Nikhil | Delhi     |\n",
      "+----+--------+-----------+\n",
      "|  1 | Ravi   | Kanpur    |\n",
      "+----+--------+-----------+\n",
      "|  2 | Manish | Ahmedabad |\n",
      "+----+--------+-----------+\n",
      "|  3 | Prince | Bangalore |\n",
      "+----+--------+-----------+\n"
     ]
    }
   ],
   "source": [
    "# table example from GeeksForGeeks\n",
    "from tabulate import tabulate\n",
    "\n",
    "# assign data\n",
    "mydata = [\n",
    "\t[\"Nikhil\", \"Delhi\"], \n",
    "\t[\"Ravi\", \"Kanpur\"], \n",
    "\t[\"Manish\", \"Ahmedabad\"], \n",
    "\t[\"Prince\", \"Bangalore\"]\n",
    "]\n",
    "\n",
    "# create header\n",
    "head = [\"Name\", \"City\"]\n",
    "\n",
    "# display table\n",
    "print(tabulate(mydata, headers=head, tablefmt=\"grid\", showindex=\"always\"))"
   ]
  },
  {
   "cell_type": "code",
   "execution_count": 3,
   "id": "1809b5e5-95e1-4215-8c95-a173f6886414",
   "metadata": {},
   "outputs": [
    {
     "name": "stdout",
     "output_type": "stream",
     "text": [
      "+----+----+\n",
      "| a1      |\n",
      "+----+    +\n",
      "| a2 |    |\n",
      "+----+----+\n",
      "None\n"
     ]
    }
   ],
   "source": [
    "import tabulate_cell_merger.tabulate_cell_merger as tcm\n",
    "table = [['a1', 'b1'], ['a2', 'b2']]\n",
    "colspan = {(0, 0): 2}\n",
    "rowspan = {(0, 1): 2}\n",
    "print(tcm.tabulate(table, colspan, rowspan))"
   ]
  },
  {
   "cell_type": "code",
   "execution_count": null,
   "id": "e60d0b1c-84bc-4ed6-b03e-62ec7d62ac2a",
   "metadata": {},
   "outputs": [],
   "source": []
  }
 ],
 "metadata": {
  "kernelspec": {
   "display_name": "Python 3 (ipykernel)",
   "language": "python",
   "name": "python3"
  },
  "language_info": {
   "codemirror_mode": {
    "name": "ipython",
    "version": 3
   },
   "file_extension": ".py",
   "mimetype": "text/x-python",
   "name": "python",
   "nbconvert_exporter": "python",
   "pygments_lexer": "ipython3",
   "version": "3.12.7"
  }
 },
 "nbformat": 4,
 "nbformat_minor": 5
}
