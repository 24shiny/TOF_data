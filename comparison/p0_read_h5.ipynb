{
 "cells": [
  {
   "cell_type": "code",
   "execution_count": 6,
   "id": "755d4ec1-f1fb-427f-b1ea-c2926a989bd4",
   "metadata": {},
   "outputs": [],
   "source": [
    "import os\n",
    "import h5py\n",
    "import pandas as pd\n",
    "import numpy as np\n",
    "import matplotlib.pyplot as plt"
   ]
  },
  {
   "cell_type": "code",
   "execution_count": 8,
   "id": "c0beb330-ece7-48bd-9ef1-44e17c994821",
   "metadata": {},
   "outputs": [
    {
     "name": "stdout",
     "output_type": "stream",
     "text": [
      "C:\\Users\\syj43\n"
     ]
    }
   ],
   "source": [
    "import os\n",
    "print(os.getcwd())"
   ]
  },
  {
   "cell_type": "code",
   "execution_count": 10,
   "id": "8dabaf0d-0b30-4808-8423-8ef6d32fd36b",
   "metadata": {},
   "outputs": [
    {
     "data": {
      "text/plain": [
       "['2024.07.29.09h46m45s_process.h5',\n",
       " '2024.07.29.10h10m45s_process.h5',\n",
       " '2024.07.29.10h34m45s_process.h5',\n",
       " '2024.07.29.10h58m45s_process.h5',\n",
       " '2024.07.29.11h22m45s_process.h5',\n",
       " '2024.07.29.11h46m45s_process.h5']"
      ]
     },
     "execution_count": 10,
     "metadata": {},
     "output_type": "execute_result"
    }
   ],
   "source": [
    "# get the .h5 file only\n",
    "path = 'ALD/1step/h5_file/'\n",
    "file = os.listdir(path)\n",
    "myFile = []\n",
    "for f in file:\n",
    "    if f.endswith('.h5'):\n",
    "        myFile.append(f)\n",
    "myFile"
   ]
  },
  {
   "cell_type": "code",
   "execution_count": 24,
   "id": "070248e9-22b1-4794-9357-8d34dfbf4094",
   "metadata": {},
   "outputs": [
    {
     "name": "stdout",
     "output_type": "stream",
     "text": [
      "AcquisitionLog\n",
      "AcquisitionLog/Log\n",
      "FullSpectra\n",
      "    ClockPeriod: [0.]\n",
      "    MassCalibMode: [4]\n",
      "    MassCalibration Function: b'i = p1*sqrt(m) + p2 + p3*m^2 + p4*m + p5'\n",
      "    MassCalibration R0: [1500.]\n",
      "    MassCalibration a: [1080.18489081]\n",
      "    MassCalibration b: [-1222.62095898]\n",
      "    MassCalibration dm: [40.]\n",
      "    MassCalibration l1: b'H2O+'\n",
      "    MassCalibration l2: b'N2+'\n",
      "    MassCalibration l3: b'Ar+'\n",
      "    MassCalibration l4: b'CF3+'\n",
      "    MassCalibration l5: b'C3F5+'\n",
      "    MassCalibration l6: b'C4F9+'\n",
      "    MassCalibration l7: b'C5F10N+'\n",
      "    MassCalibration m0: [7.]\n",
      "    MassCalibration m1: [18.0100161]\n",
      "    MassCalibration m2: [28.00559943]\n",
      "    MassCalibration m3: [39.96183454]\n",
      "    MassCalibration m4: [68.99466091]\n",
      "    MassCalibration m5: [130.9914672]\n",
      "    MassCalibration m6: [218.9850799]\n",
      "    MassCalibration m7: [263.98655705]\n",
      "    MassCalibration nbrParameters: [5]\n",
      "    MassCalibration nbrPoints: [7]\n",
      "    MassCalibration p1: [1080.18489081]\n",
      "    MassCalibration p2: [-1222.62095898]\n",
      "    MassCalibration p3: [-0.00130999]\n",
      "    MassCalibration p4: [0.30043892]\n",
      "    MassCalibration p5: [-12.42796131]\n",
      "    MassCalibration t1: [3353.123869]\n",
      "    MassCalibration t2: [4488.236192]\n",
      "    MassCalibration t3: [5603.380064]\n",
      "    MassCalibration t4: [7752.024511]\n",
      "    MassCalibration t5: [11143.87058]\n",
      "    MassCalibration t6: [14751.84889]\n",
      "    MassCalibration t7: [16307.84463]\n",
      "    MassCalibration w1: [0.0142381]\n",
      "    MassCalibration w2: [0.0218542]\n",
      "    MassCalibration w3: [0.0317877]\n",
      "    MassCalibration w4: [0.179822]\n",
      "    MassCalibration w5: [0.024992]\n",
      "    MassCalibration w6: [0.0138369]\n",
      "    MassCalibration w7: [0.00227791]\n",
      "    SampleInterval: [6.25e-10]\n",
      "    Single Ion Signal: [1.5265]\n",
      "FullSpectra/MassAxis\n",
      "FullSpectra/SaturationWarning\n",
      "FullSpectra/SumSpectrum\n",
      "FullSpectra/TofData\n",
      "PeakData\n",
      "PeakData/PeakData\n",
      "PeakData/PeakTable\n",
      "RawData\n",
      "RawData/ADQ1600\n",
      "    API Revision: [19045]\n",
      "    Baseline: [6500]\n",
      "    FW Revision: [18585]\n",
      "    FullScale: [2.2]\n",
      "    PrePostSamples: [1]\n",
      "    PreampGain: [7.8]\n",
      "    Threshold: [6474]\n",
      "    ThresholdingEnabled: [1]\n",
      "    TriggerLevel: [500.]\n",
      "    TriggerSlope: [0]\n",
      "    TriggerSource: [0]\n",
      "RawData/ADQ1600/Temperature\n",
      "RawData/ADQ1600/Temperature/TwData\n",
      "RawData/ADQ1600/Temperature/TwInfo\n",
      "TPS2\n",
      "TPS2/TwData\n",
      "TPS2/TwInfo\n",
      "TimingData\n",
      "    AcquisitionTimeZero: [133666876055110000]\n",
      "    BankSwitchPeriod: [0]\n",
      "    BlockDelay: [0]\n",
      "    BlockPeriod: [200000000]\n",
      "    BlockPulseDelay: [100]\n",
      "    BlockPulseInvert: [1]\n",
      "    BlockPulseOut: [0]\n",
      "    BlockPulseWidth: [2000000]\n",
      "    Dio0Mode: [0]\n",
      "    Dio4EveryNthPulse: [1]\n",
      "    Dio4FirstPulse: [0]\n",
      "    Dio4Invert: [0]\n",
      "    Dio4LogMode: [0]\n",
      "    Dio4Mode: [2]\n",
      "    Dio4PulseDelay: [1]\n",
      "    Dio4PulseWidth: [100]\n",
      "    DioActiveEnable: [0]\n",
      "    DioActiveInvert: [1]\n",
      "    DioEveryNthWritePulse: [1]\n",
      "    DioFirstWritePulse: [0]\n",
      "    DioReadyEnable: [0]\n",
      "    DioReadyInvert: [0]\n",
      "    DioStartDelay: [0.]\n",
      "    DioStartEnable: [0]\n",
      "    DioStartInvert: [1]\n",
      "    DioStopAcquisition: [1]\n",
      "    DioStopEnable: [0]\n",
      "    DioStopInvert: [1]\n",
      "    DioWritePulseDelay: [0]\n",
      "    DioWritePulseEnable: [0]\n",
      "    DioWritePulseInvert: [0]\n",
      "    DioWritePulseWidth: [100]\n",
      "    GroupRangeStart: [2000]\n",
      "    HV1Width: [600]\n",
      "    HV2Width: [600]\n",
      "    StartDelay: [2813]\n",
      "    TimingMode: [0]\n",
      "    TofPeriod: [20000]\n",
      "TimingData/BufTimes\n"
     ]
    }
   ],
   "source": [
    "# Open the .h5 file\n",
    "with h5py.File(f'{path}/{myFile[0]}', 'r') as f:\n",
    "    # Print all the available groups/datasets\n",
    "    def print_attrs(name, obj):\n",
    "        print(name)\n",
    "        for key, val in obj.attrs.items():\n",
    "            print(\"    %s: %s\" % (key, val))\n",
    "    \n",
    "    f.visititems(print_attrs)"
   ]
  },
  {
   "cell_type": "code",
   "execution_count": 28,
   "id": "07c476e7-45e6-4657-9ac9-15929962d94a",
   "metadata": {},
   "outputs": [
    {
     "name": "stdout",
     "output_type": "stream",
     "text": [
      "(129024000, 1)\n"
     ]
    },
    {
     "data": {
      "text/html": [
       "<div>\n",
       "<style scoped>\n",
       "    .dataframe tbody tr th:only-of-type {\n",
       "        vertical-align: middle;\n",
       "    }\n",
       "\n",
       "    .dataframe tbody tr th {\n",
       "        vertical-align: top;\n",
       "    }\n",
       "\n",
       "    .dataframe thead th {\n",
       "        text-align: right;\n",
       "    }\n",
       "</style>\n",
       "<table border=\"1\" class=\"dataframe\">\n",
       "  <thead>\n",
       "    <tr style=\"text-align: right;\">\n",
       "      <th></th>\n",
       "      <th>0</th>\n",
       "    </tr>\n",
       "  </thead>\n",
       "  <tbody>\n",
       "    <tr>\n",
       "      <th>0</th>\n",
       "      <td>0.0</td>\n",
       "    </tr>\n",
       "    <tr>\n",
       "      <th>1</th>\n",
       "      <td>0.0</td>\n",
       "    </tr>\n",
       "    <tr>\n",
       "      <th>2</th>\n",
       "      <td>0.0</td>\n",
       "    </tr>\n",
       "    <tr>\n",
       "      <th>3</th>\n",
       "      <td>0.0</td>\n",
       "    </tr>\n",
       "    <tr>\n",
       "      <th>4</th>\n",
       "      <td>0.0</td>\n",
       "    </tr>\n",
       "  </tbody>\n",
       "</table>\n",
       "</div>"
      ],
      "text/plain": [
       "     0\n",
       "0  0.0\n",
       "1  0.0\n",
       "2  0.0\n",
       "3  0.0\n",
       "4  0.0"
      ]
     },
     "execution_count": 28,
     "metadata": {},
     "output_type": "execute_result"
    }
   ],
   "source": [
    "# Open the .h5 file\n",
    "with h5py.File(f'{path}/{myFile[0]}', 'r') as f:\n",
    "    dataset = f['FullSpectra/TofData'][:]\n",
    "    dataset = np.array(dataset).flatten().reshape(-1,1)\n",
    "    df = pd.DataFrame(dataset)\n",
    "print(df.shape)\n",
    "df.head()"
   ]
  },
  {
   "cell_type": "code",
   "execution_count": null,
   "id": "57670851-7d5a-4ddc-adf7-752431ff76a4",
   "metadata": {},
   "outputs": [],
   "source": []
  }
 ],
 "metadata": {
  "kernelspec": {
   "display_name": "Python 3 (ipykernel)",
   "language": "python",
   "name": "python3"
  },
  "language_info": {
   "codemirror_mode": {
    "name": "ipython",
    "version": 3
   },
   "file_extension": ".py",
   "mimetype": "text/x-python",
   "name": "python",
   "nbconvert_exporter": "python",
   "pygments_lexer": "ipython3",
   "version": "3.12.7"
  }
 },
 "nbformat": 4,
 "nbformat_minor": 5
}
